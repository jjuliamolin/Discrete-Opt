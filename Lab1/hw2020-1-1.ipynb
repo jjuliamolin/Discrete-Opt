{
 "cells": [
  {
   "cell_type": "markdown",
   "metadata": {},
   "source": [
    "\n",
    "$\\qquad$ $\\qquad$$\\qquad$  **TDA231/DIT370 Discrete Optimization: Home Assignment 1 -- Modelling and Solving with LPs** <br />\n",
    "$\\qquad$ $\\qquad$$\\qquad$                   **Grader: Divya** <br />\n",
    "$\\qquad$ $\\qquad$$\\qquad$                     **Due Date: 27th January** <br />\n",
    "$\\qquad$ $\\qquad$$\\qquad$                   **Submitted by: Name, Personal No., Email** <br />\n",
    "\n",
    "\n",
    "---\n",
    "\n",
    "\n",
    "General guidelines:\n",
    "*   All solutions to theoretical and pratical problems must be submitted in this ipynb notebook, and equations wherever required, should be formatted using LaTeX math-mode.\n",
    "*   All discussion regarding practical problems, along with solutions and plots should be specified in this notebook. All plots/results should be visible such that the notebook do not have to be run. But the code in the notebook should reproduce the plots/results if we choose to do so.\n",
    "*   Your name, personal number and email address should be specified above.\n",
    "*   All tables and other additional information should be included in this notebook.\n",
    "*   Before submitting, make sure that your code can run on another computer. That all plots can show on another computer including all your writing. It is good to check if your code can run here: https://colab.research.google.com.\n"
   ]
  },
  {
   "cell_type": "markdown",
   "metadata": {},
   "source": [
    "# Problem 1.\n",
    "\n",
    "Consider the following LP problem:\n",
    "\n",
    "\n",
    "\\begin{array}\n",
    "\\mathcal{max}\\quad 4x_1-2x_2+5x_3+6x_4+7x_5\\\\\n",
    "\\textrm{s.t} \\\\\n",
    "2x_1 + 2x_2 - 4x_3 + 4x_4 + 8x_5 \\leq 6\\\\\n",
    "2x_1 + x_2 - 2x_3 - x_4 - 3x_5 \\geq -1\\\\\n",
    "5x_1 - 2x_2 + 4x_3 + 4x_4 + 2x_5 = 5\\\\\n",
    "2x_1 - 2x_2 + 5x_3 + 3x_4 + x_5 \\leq 4\\\\\n",
    "\\vec x \\geq \\vec 0\n",
    "\\end{array}\n",
    "\n",
    "* (10 points) Use CVXOPT to solve the LP above. Submit your code, and print the solution vector and objective value."
   ]
  },
  {
   "cell_type": "code",
   "execution_count": 9,
   "metadata": {},
   "outputs": [
    {
     "name": "stdout",
     "output_type": "stream",
     "text": [
      "[ 6.27118644e-01  2.81355932e+00  1.54237288e+00 -5.09281400e-13\n",
      "  6.61016949e-01]\n",
      "9.22033898296506\n",
      "[0.52542373 0.37288136 0.74119597 0.40221292 1.        ]\n"
     ]
    }
   ],
   "source": [
    "import cvxpy as cp\n",
    "import numpy as np\n",
    "\n",
    "A = np.array([\n",
    "             [2,2,-4,4,8], \n",
    "             [-2,-1,2,1,3],\n",
    "             [5,-2,4,4,2],\n",
    "             [-5,2,-4,-4,-2],\n",
    "             [2,-2,5,3,1]\n",
    "             ])\n",
    "\n",
    "b = np.array([6,1,5,-5,4])\n",
    "\n",
    "c = np.array([4,-2,5,6,7])\n",
    "\n",
    "# Construct the problem.\n",
    "x = cp.Variable(5)\n",
    "constraints = [A @ x <= b, 0 <= x]\n",
    "#print(constraints)\n",
    "objective = cp.Maximize(c.T@x) \n",
    "prob = cp.Problem(objective, constraints)\n",
    "\n",
    "\n",
    "result = prob.solve()\n",
    "print(x.value)\n",
    "print(result)\n",
    "\n",
    "print(constraints[0].dual_value)\n"
   ]
  },
  {
   "cell_type": "markdown",
   "metadata": {},
   "source": [
    "# Problem 2.\n",
    "\n",
    "There are 4 space colonies, each of which  requires a certain number of plasma conduits. There are 3 starbases in the vicinity. Each of them has total number of conduits they can spare and supply to the colonies. For each pair of starbase and colony, there is an associated cost for sending a cargo ship  (each of which carries one plasma conduit), as shown in the table below:\n",
    "\n",
    "\n",
    "\\begin{array}{l|c|c|c|c|c} \n",
    "      & Triacus & New Berlin  & Strnad  & Vega  & supply\\\\ \\hline\n",
    " Farpoint &   6 &  9 & 10 & 8 & 35\\\\\n",
    " Yorktown &  9 & 5 & 16 & 14 & 40\\\\\n",
    " Earhart & 12 &  7 & 13 & 9 & 50\\\\ \\hline\n",
    "    demand & 20 &30&30&45& \\left(\\sum=125\\right) \\\\ \n",
    "\\end{array}\n",
    "\n",
    "Your goal is to supply the colonies the plasma conduits they need, at minimum cost.\n",
    "\n",
    "\n",
    "* (5 points) Consider the general *transportation problem*: where there are $\\bf{n}$ colonies and $\\bf{m}$ bases and the costs are given by a $\\bf{m} \\times \\bf{n}$ matrix $\\mathcal{C}$, demand and supply are given by arrays $\\bf{d}$ and $\\bf{s}$ respectively. Formulate a LP to solve the problem.\n",
    "\n",
    "* (3 points) Code the LP in CVXOPT, input the data for the space colonies manually and use CVXOPT to solve the LP. Submit your code and write down the solution and objective.\n",
    "\n",
    "* (2 points) Use CVXOPT to show what  the  effect  on the model and the optimal solution would be if each of the starbases could supply five more conduits."
   ]
  },
  {
   "cell_type": "code",
   "execution_count": 29,
   "metadata": {},
   "outputs": [
    {
     "name": "stdout",
     "output_type": "stream",
     "text": [
      "[ 6.  9. 10.  8.  9.  5. 16. 14. 12.  7. 13.  9.] @ var284\n"
     ]
    },
    {
     "ename": "ValueError",
     "evalue": "The 'minimize' objective must resolve to a scalar.",
     "output_type": "error",
     "traceback": [
      "\u001b[0;31m---------------------------------------------------------------------------\u001b[0m",
      "\u001b[0;31mValueError\u001b[0m                                Traceback (most recent call last)",
      "\u001b[0;32m<ipython-input-29-fa9ec0e905a3>\u001b[0m in \u001b[0;36m<module>\u001b[0;34m\u001b[0m\n\u001b[1;32m     20\u001b[0m \u001b[0mprint\u001b[0m\u001b[0;34m(\u001b[0m\u001b[0mt\u001b[0m\u001b[0;34m)\u001b[0m\u001b[0;34m\u001b[0m\u001b[0;34m\u001b[0m\u001b[0m\n\u001b[1;32m     21\u001b[0m \u001b[0;34m\u001b[0m\u001b[0m\n\u001b[0;32m---> 22\u001b[0;31m \u001b[0mobjective\u001b[0m \u001b[0;34m=\u001b[0m \u001b[0mcp\u001b[0m\u001b[0;34m.\u001b[0m\u001b[0mMinimize\u001b[0m\u001b[0;34m(\u001b[0m\u001b[0mx\u001b[0m\u001b[0;34m)\u001b[0m\u001b[0;34m\u001b[0m\u001b[0;34m\u001b[0m\u001b[0m\n\u001b[0m\u001b[1;32m     23\u001b[0m \u001b[0;34m\u001b[0m\u001b[0m\n\u001b[1;32m     24\u001b[0m \u001b[0mconstraints\u001b[0m \u001b[0;34m=\u001b[0m \u001b[0;34m[\u001b[0m\u001b[0;36m0\u001b[0m \u001b[0;34m<=\u001b[0m \u001b[0mx\u001b[0m\u001b[0;34m]\u001b[0m\u001b[0;34m\u001b[0m\u001b[0;34m\u001b[0m\u001b[0m\n",
      "\u001b[0;32m~/opt/anaconda3/envs/cvxpy/lib/python3.9/site-packages/cvxpy/problems/objective.py\u001b[0m in \u001b[0;36m__init__\u001b[0;34m(self, expr)\u001b[0m\n\u001b[1;32m     41\u001b[0m         \u001b[0;31m# Validate that the objective resolves to a scalar.\u001b[0m\u001b[0;34m\u001b[0m\u001b[0;34m\u001b[0m\u001b[0;34m\u001b[0m\u001b[0m\n\u001b[1;32m     42\u001b[0m         \u001b[0;32mif\u001b[0m \u001b[0;32mnot\u001b[0m \u001b[0mself\u001b[0m\u001b[0;34m.\u001b[0m\u001b[0margs\u001b[0m\u001b[0;34m[\u001b[0m\u001b[0;36m0\u001b[0m\u001b[0;34m]\u001b[0m\u001b[0;34m.\u001b[0m\u001b[0mis_scalar\u001b[0m\u001b[0;34m(\u001b[0m\u001b[0;34m)\u001b[0m\u001b[0;34m:\u001b[0m\u001b[0;34m\u001b[0m\u001b[0;34m\u001b[0m\u001b[0m\n\u001b[0;32m---> 43\u001b[0;31m             raise ValueError(\"The '%s' objective must resolve to a scalar.\"\n\u001b[0m\u001b[1;32m     44\u001b[0m                              % self.NAME)\n\u001b[1;32m     45\u001b[0m         \u001b[0;32mif\u001b[0m \u001b[0;32mnot\u001b[0m \u001b[0mself\u001b[0m\u001b[0;34m.\u001b[0m\u001b[0margs\u001b[0m\u001b[0;34m[\u001b[0m\u001b[0;36m0\u001b[0m\u001b[0;34m]\u001b[0m\u001b[0;34m.\u001b[0m\u001b[0mis_real\u001b[0m\u001b[0;34m(\u001b[0m\u001b[0;34m)\u001b[0m\u001b[0;34m:\u001b[0m\u001b[0;34m\u001b[0m\u001b[0;34m\u001b[0m\u001b[0m\n",
      "\u001b[0;31mValueError\u001b[0m: The 'minimize' objective must resolve to a scalar."
     ]
    }
   ],
   "source": [
    "x = cp.Variable(12) # one variable for each way/edge\n",
    "'''\n",
    "[0] = farpoint - triacus\n",
    "'''\n",
    "#x = [1,2,3,4,5,6,7,8,9,10,11,12]\n",
    "\n",
    "#(-(4*x[0] - 2*x[1] + 5*x[2] + 6*x[3] + 7*x[4]), [c1, c2, c3, c4, cx])\n",
    "\n",
    "'''\n",
    "A = [[6, 9, 10, 8],\n",
    "     [9, 5, 16, 14],\n",
    "     [12, 7, 13, 9]]\n",
    "'''\n",
    "\n",
    "A = [6, 9, 10, 8,\n",
    "     9, 5, 16, 14,\n",
    "     12, 7, 13, 9]\n",
    "\n",
    "#t = A @ x\n",
    "print(t)\n",
    "\n",
    "objective = cp.Minimize(A@x)\n",
    "\n",
    "constraints = [0 <= x]\n",
    "\n",
    "\n",
    "prob = cp.Problem(objective, constraints)\n",
    "prob.solve()\n",
    "print(x.value)\n",
    "\n",
    "#min -----> A@x\n",
    "\n",
    "#b:\n",
    " #   A[1,:]@x[1,:] <= 35\n",
    "    \n",
    "  #  A[:, 1]@[:, 1] >= 20\n",
    "\n",
    "#A[:,0]\n",
    "#A[1,:]"
   ]
  },
  {
   "cell_type": "markdown",
   "metadata": {},
   "source": [
    "# Question 3 (Not to be turned in).\n",
    "Use CVXOPT to model and solve the other examples in the textbook (sections 2.1 -- 2.6)."
   ]
  },
  {
   "cell_type": "code",
   "execution_count": 1,
   "metadata": {},
   "outputs": [
    {
     "name": "stdout",
     "output_type": "stream",
     "text": [
      "None\n",
      "[0.00952634 0.03826503 0.2948909 ]\n",
      "[0. 0. 0.]\n"
     ]
    }
   ],
   "source": [
    "import cvxpy as cp\n",
    "import numpy as np\n",
    "\n",
    "# Problem data\n",
    "A = np.array([[35,0.5,0.5], \n",
    "             [60,300,10],\n",
    "             [30,20,10]])\n",
    "b = np.array([0.5,15,4])\n",
    "\n",
    "# Construct the problem.\n",
    "x = cp.Variable(3)\n",
    "print(x.value)\n",
    "objective = cp.Minimize(cp.sum_squares(A@x - b))\n",
    "constraints = [0 <= x]\n",
    "prob = cp.Problem(objective, constraints)\n",
    "\n",
    "# The optimal objective value is returned by `prob.solve()`.\n",
    "result = prob.solve()\n",
    "# The optimal value for x is stored in `x.value`.\n",
    "print(x.value)\n",
    "# The optimal Lagrange multiplier for a constraint is stored in\n",
    "# `constraint.dual_value`.\n",
    "print(constraints[0].dual_value)"
   ]
  },
  {
   "cell_type": "code",
   "execution_count": 14,
   "metadata": {},
   "outputs": [
    {
     "name": "stdout",
     "output_type": "stream",
     "text": [
      "[array([ True,  True,  True])]\n",
      "[1 2 3]\n"
     ]
    }
   ],
   "source": [
    "#test \n",
    "\n",
    "x = np.array([1,2,3])\n",
    "c = [0 <= x]\n",
    "print(c)\n",
    "print(x)"
   ]
  }
 ],
 "metadata": {
  "kernelspec": {
   "display_name": "Python 3",
   "language": "python",
   "name": "python3"
  },
  "language_info": {
   "codemirror_mode": {
    "name": "ipython",
    "version": 3
   },
   "file_extension": ".py",
   "mimetype": "text/x-python",
   "name": "python",
   "nbconvert_exporter": "python",
   "pygments_lexer": "ipython3",
   "version": "3.9.1"
  }
 },
 "nbformat": 4,
 "nbformat_minor": 2
}
