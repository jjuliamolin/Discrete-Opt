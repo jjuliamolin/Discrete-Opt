{
 "cells": [
  {
   "cell_type": "markdown",
   "metadata": {},
   "source": [
    "\n",
    "$\\qquad$ $\\qquad$$\\qquad$  **TDA231/DIT370 Discrete Optimization: Home Assignment 1 -- Modelling and Solving with LPs** <br />\n",
    "$\\qquad$ $\\qquad$$\\qquad$                   **Grader: Divya** <br />\n",
    "$\\qquad$ $\\qquad$$\\qquad$                     **Due Date: 27th January** <br />\n",
    "$\\qquad$ $\\qquad$$\\qquad$                   **Submitted by:   Julia Molin, 950322-4124, mojulia@student.chalmers.se** <br />$\\qquad$ $\\qquad$$\\qquad$$\\qquad$$\\qquad$$\\quad$ **Ludwig Hultqvist, 970917-0071, ludhul@student.chalmers.se**<br />\n",
    "\n",
    "\n",
    "---\n",
    "\n",
    "\n",
    "General guidelines:\n",
    "*   All solutions to theoretical and pratical problems must be submitted in this ipynb notebook, and equations wherever required, should be formatted using LaTeX math-mode.\n",
    "*   All discussion regarding practical problems, along with solutions and plots should be specified in this notebook. All plots/results should be visible such that the notebook do not have to be run. But the code in the notebook should reproduce the plots/results if we choose to do so.\n",
    "*   Your name, personal number and email address should be specified above.\n",
    "*   All tables and other additional information should be included in this notebook.\n",
    "*   Before submitting, make sure that your code can run on another computer. That all plots can show on another computer including all your writing. It is good to check if your code can run here: https://colab.research.google.com.\n"
   ]
  },
  {
   "cell_type": "markdown",
   "metadata": {},
   "source": [
    "# Problem 1.\n",
    "\n",
    "Consider the following LP problem:\n",
    "\n",
    "\n",
    "\\begin{array}\n",
    "\\mathcal{max}\\quad 4x_1-2x_2+5x_3+6x_4+7x_5\\\\\n",
    "\\textrm{s.t} \\\\\n",
    "2x_1 + 2x_2 - 4x_3 + 4x_4 + 8x_5 \\leq 6\\\\\n",
    "2x_1 + x_2 - 2x_3 - x_4 - 3x_5 \\geq -1\\\\\n",
    "5x_1 - 2x_2 + 4x_3 + 4x_4 + 2x_5 = 5\\\\\n",
    "2x_1 - 2x_2 + 5x_3 + 3x_4 + x_5 \\leq 4\\\\\n",
    "\\vec x \\geq \\vec 0\n",
    "\\end{array}\n",
    "\n",
    "* (10 points) Use CVXOPT to solve the LP above. Submit your code, and print the solution vector and objective value."
   ]
  },
  {
   "cell_type": "markdown",
   "metadata": {},
   "source": [
    "### Solution 1 - code"
   ]
  },
  {
   "cell_type": "code",
   "execution_count": 37,
   "metadata": {},
   "outputs": [
    {
     "name": "stdout",
     "output_type": "stream",
     "text": [
      "x values:  [6.27118644e-01 2.81355932e+00 1.54237288e+00 1.67556947e-11\n",
      " 6.61016949e-01]\n",
      "optimal solution:  9.220338982799781\n"
     ]
    }
   ],
   "source": [
    "import cvxpy as cp\n",
    "import numpy as np\n",
    "\n",
    "A = np.array([\n",
    "             [2,2,-4,4,8], \n",
    "             [-2,-1,2,1,3],\n",
    "             [5,-2,4,4,2],\n",
    "             [-5,2,-4,-4,-2],\n",
    "             [2,-2,5,3,1]\n",
    "             ])\n",
    "\n",
    "b = np.array([6,1,5,-5,4])\n",
    "\n",
    "c = np.array([4,-2,5,6,7])\n",
    "\n",
    "# Construct the problem.\n",
    "x = cp.Variable(5, nonneg=True)\n",
    "constraints = [A @ x <= b, 0 <= x]\n",
    "objective = cp.Maximize(c.T@x) \n",
    "prob = cp.Problem(objective, constraints)\n",
    "\n",
    "# Solve\n",
    "result = prob.solve()\n",
    "print(\"x values: \", x.value)\n",
    "print(\"optimal solution: \", result)\n",
    "\n",
    "#print(constraints[0].dual_value)\n"
   ]
  },
  {
   "cell_type": "markdown",
   "metadata": {},
   "source": [
    "# Problem 2.\n",
    "\n",
    "There are 4 space colonies, each of which  requires a certain number of plasma conduits. There are 3 starbases in the vicinity. Each of them has total number of conduits they can spare and supply to the colonies. For each pair of starbase and colony, there is an associated cost for sending a cargo ship  (each of which carries one plasma conduit), as shown in the table below:\n",
    "\n",
    "\n",
    "\\begin{array}{l|c|c|c|c|c} \n",
    "      & Triacus & New Berlin  & Strnad  & Vega  & supply\\\\ \\hline\n",
    " Farpoint &   6 &  9 & 10 & 8 & 35\\\\\n",
    " Yorktown &  9 & 5 & 16 & 14 & 40\\\\\n",
    " Earhart & 12 &  7 & 13 & 9 & 50\\\\ \\hline\n",
    "    demand & 20 &30&30&45& \\left(\\sum=125\\right) \\\\ \n",
    "\\end{array}\n",
    "\n",
    "Your goal is to supply the colonies the plasma conduits they need, at minimum cost.\n",
    "\n",
    "\n",
    "* (5 points) Consider the general *transportation problem*: where there are $\\bf{n}$ colonies and $\\bf{m}$ bases and the costs are given by a $\\bf{m} \\times \\bf{n}$ matrix $\\mathcal{C}$, demand and supply are given by arrays $\\bf{d}$ and $\\bf{s}$ respectively. Formulate a LP to solve the problem.\n",
    "\n",
    "* (3 points) Code the LP in CVXOPT, input the data for the space colonies manually and use CVXOPT to solve the LP. Submit your code and write down the solution and objective.\n",
    "\n",
    "* (2 points) Use CVXOPT to show what  the  effect  on the model and the optimal solution would be if each of the starbases could supply five more conduits."
   ]
  },
  {
   "cell_type": "markdown",
   "metadata": {},
   "source": [
    "### Solution 2.1 \n",
    "We define $c_{ij}$ as the cost to transport from starbase i to colony j, \n",
    "and $x_{ij}$ as the number of conduits which are transported from i to j.\n",
    "Further we define $d_j$ as the demand of colony j, and $s_i$ as the supply from starbase i.\n",
    "\n",
    "We want to minimize the sum of all costs.\n",
    "We cannot send more conduits from a starbase than its supply, and each colony must get at least its demand. This gives us the following LP:\n",
    "\n",
    "\n",
    "##### Objective function: \n",
    "$ \\min \\sum_{i}{c_{ij} x_{ij}} $\n",
    "\n",
    "##### Constraints:\n",
    "$ \\sum_{i}{x_{ij}} \\geq d_j \\quad \\forall j$ \n",
    "\n",
    "$ \\sum_{j}{x_{ij}} \\leq s_i \\quad \\forall i$\n",
    "\n",
    "$x_{ij} \\geq 0 \\quad \\forall ij$\n"
   ]
  },
  {
   "cell_type": "markdown",
   "metadata": {},
   "source": [
    "### Solution 2.2 - code\n",
    "\n",
    "To achive the objective function, we take the diagonal sum of the dot product of the transposed cost matrix and our variable matrix (X). Thus, we only need one cost matrix and one variable matrix.\n",
    "\n",
    "To reduce the number of explicit constraints, we keep supplies and demands as vectors. Further we use the help-vectors ei and ej to simplify the constraints.\n",
    "\n",
    "##### Question to TA:\n",
    "When we don't use the param \"nonneg=True\" in variable X, the LP-solver gives a negative value for one of the x values, even though we define a constraint [x >= 0]. Do you know why? "
   ]
  },
  {
   "cell_type": "code",
   "execution_count": 38,
   "metadata": {},
   "outputs": [
    {
     "name": "stdout",
     "output_type": "stream",
     "text": [
      "X-values:  [[9.99999999e+00 1.45595158e-09 2.50000000e+01 5.63585061e-09]\n",
      " [1.00000000e+01 3.00000000e+01 6.43021238e-09 3.08607353e-09]\n",
      " [1.13775877e-08 1.06620583e-08 4.99999999e+00 4.50000000e+01]]\n",
      "status: optimal\n",
      "objective: 1020.0000000943861\n"
     ]
    }
   ],
   "source": [
    "supplies = np.array([35,40,50])\n",
    "demands = np.array([20,30,30,45])\n",
    "\n",
    "costs = np.array([[6, 9, 10, 8],\n",
    "                  [9, 5, 16, 14],\n",
    "                  [12, 7, 13, 9]])\n",
    "\n",
    "ei = np.ones(supplies.shape) #[1,1,1]\n",
    "ej = np.ones(demands.shape)  #[1,1,1,1]\n",
    "\n",
    "X = cp.Variable(costs.shape,\"X\", nonneg=True)\n",
    "\n",
    "objective = cp.Minimize(cp.trace(costs.T @ X)) #sum of all cost_ij * x_ij\n",
    "constraints = [X.T@ei >= demands, \n",
    "               X@ej <= supplies, \n",
    "               X>=0]\n",
    "\n",
    "prob = cp.Problem(objective, constraints)\n",
    "\n",
    "prob.solve()\n",
    "print(\"X-values: \", X.value)\n",
    "print(\"status:\", prob.status)\n",
    "print(\"objective:\",prob.value)"
   ]
  },
  {
   "cell_type": "markdown",
   "metadata": {},
   "source": [
    "### Solution 2.3 - more supply\n",
    "When we increased the supply, we observed that the optimal cost decreased from 1020.0 to 929.9"
   ]
  },
  {
   "cell_type": "code",
   "execution_count": 31,
   "metadata": {},
   "outputs": [
    {
     "name": "stdout",
     "output_type": "stream",
     "text": [
      "[[2.00000000e+01 0.00000000e+00 3.00000000e+01 4.50000000e+01]\n",
      " [0.00000000e+00 3.00000000e+01 0.00000000e+00 0.00000000e+00]\n",
      " [0.00000000e+00 1.12010803e-10 4.91726278e-11 1.17511612e-09]]\n",
      "status: optimal\n",
      "objective: 929.9999999901953\n"
     ]
    }
   ],
   "source": [
    "supplies += 5 #increase all entries with 5\n",
    "\n",
    "X2 = cp.Variable(costs.shape,\"X\", nonneg=True)\n",
    "objective2 = cp.Minimize(cp.trace(costs.T @ X2)) #sum of all cost_ij * x_ij\n",
    "\n",
    "constraints2 = [X2.T@ei >= demands, \n",
    "               X@ej <= supplies, \n",
    "               X>=0]\n",
    "\n",
    "prob2 = cp.Problem(objective2, constraints2)\n",
    "\n",
    "prob2.solve()\n",
    "print(X2.value)\n",
    "print(\"status:\",prob2.status)\n",
    "print(\"objective:\",prob2.value)\n"
   ]
  }
 ],
 "metadata": {
  "kernelspec": {
   "display_name": "Python 3",
   "language": "python",
   "name": "python3"
  },
  "language_info": {
   "codemirror_mode": {
    "name": "ipython",
    "version": 3
   },
   "file_extension": ".py",
   "mimetype": "text/x-python",
   "name": "python",
   "nbconvert_exporter": "python",
   "pygments_lexer": "ipython3",
   "version": "3.9.1"
  }
 },
 "nbformat": 4,
 "nbformat_minor": 2
}
