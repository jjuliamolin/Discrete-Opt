{
 "cells": [
  {
   "cell_type": "markdown",
   "metadata": {
    "id": "9BpU0PTotQH_"
   },
   "source": [
    "\n",
    "$\\qquad$ $\\qquad$$\\qquad$  **TDA231/DIT370 Discrete Optimization: Home Assignment 2 -- Integer LP and Relaxation** <br />\n",
    "$\\qquad$ $\\qquad$$\\qquad$                   **Grader: Elisabet Lobo** <br />\n",
    "$\\qquad$ $\\qquad$$\\qquad$                   **Submitted by:   Julia Molin, 950322-4124, mojulia@student.chalmers.se** <br />$\\qquad$ $\\qquad$$\\qquad$$\\qquad$$\\qquad$$\\quad$ **Ludwig Hultqvist, 970917-0071, ludhul@student.chalmers.se**<br />\n",
    "\n",
    "\n",
    "---\n",
    "\n",
    "\n",
    "General guidelines:\n",
    "*   All solutions to theoretical and pratical problems must be submitted in this ipynb notebook, and equations wherever required, should be formatted using LaTeX math-mode.\n",
    "*   All discussion regarding practical problems, along with solutions and plots should be specified in this notebook. All plots/results should be visible such that the notebook do not have to be run. But the code in the notebook should reproduce the plots/results if we choose to do so.\n",
    "*   Your name, personal number and email address should be specified above.\n",
    "*   All tables and other additional information should be included in this notebook.\n",
    "*   Before submitting, make sure that your code can run on another computer. That all plots can show on another computer including all your writing. It is good to check if your code can run here: https://colab.research.google.com.\n"
   ]
  },
  {
   "cell_type": "markdown",
   "metadata": {
    "id": "b2Ga2PmEtQIA"
   },
   "source": [
    "# Question 1.\n",
    "(5 points) In the previous assignment, we solved the transportation problem of the space colonies using LP. Explain why the solution was integral with a proof.\n",
    "\n",
    "Proving that the solution is intregral requires proving that the contraints can be modelled as a totally unimodular matrix. This can be done by showing how the problem can be modelled as a bipartite graph, which is proven to always be totally unimodular.\n",
    "\n",
    "Assume that the problem consist of graph G = (V,E), where the vertices V can be partitioned into the spacestations S and the colonies C and the edges E consist of the every pair $(s \\in S, c \\in C)$. The matrix A then consist of an incidence matrix where each row represent one edge of the graph. Thus, each row will have exactly two elements with the value of 1 and all other element the value of 0. The rows of the matrix transpose can then be partitioned into the sets R1 and R2, such that every column in R1 and R2 contains only one element with the value of 1 and all other 0. Since G is bipartite, each starbases will represent one row in R1 where every 1 is the edge to one colony and an and each colony will represent one row in R2 where every 1 is the edge from one starbase. Thus, each column in R1 and R2 will have at most one 1 and the matrix A is totally unimodular. As stated in the Hoffman-Kruskal Theorem, if A is totally unimodular, the LP-solution will be integral."
   ]
  },
  {
   "cell_type": "markdown",
   "metadata": {
    "id": "xFec7wzqtQIB"
   },
   "source": [
    "# Question 2.\n",
    "\n",
    "Recall the Minimum Weight Vertex Cover (VC) Problem: Given an undirected graph $G=(V, E)$, with node set $V$ and edge set $E$, where each node has a positive weight $w(v)$ associated with it (see figure), the goal is to select a subset $V'\\subseteq V$ of nodes such that every edge has at least one node incident to it, and the total selected node weight $\\sum_{v\\in V'} w(v)$ is minimized. \n",
    "\n",
    "* (4 points) Formulate the ILP for the VC problem for the example below, and solve it using **CVXPY** integer solver, for instance, `myVar = cp.Variable(<dim>, integer=True)`.\n",
    "* (2 points) Pass to the LP relaxation and solve it using **CVXPY** and comment on the relation between the two solutions.\n",
    "* (2 points) Apply the rounding rule discussed in class to the optimal LP solution to obtain a solution to the ILP and compare it to the optimal ILP solution.\n",
    "\n",
    "![alt text](https://drive.google.com/uc?id=1NDgRt1SqvTy_hSnAQmGoSE8peMNFmI6C)\n"
   ]
  },
  {
   "cell_type": "markdown",
   "metadata": {},
   "source": [
    "## Question 2.1\n",
    "\n",
    "**Variables:** <br />\n",
    "$x_v$ for every node v, such that $v \\in V$ and $x_v \\in \\{0, 1\\}$, where $x_v = 1$ if $v \\in V'$ and $x_v = 0$ if $v \\not \\in V'$ $.\n",
    "\n",
    "**Objective function:** <br />\n",
    "min $\\sum_{v \\in V} w(v)*x_v$\n",
    "\n",
    "**s.t** <br />\n",
    "$x_u + x_v \\geq 1 \\quad \\forall (u,v) \\in E$ <br />\n",
    "$x_v \\in \\{0, 1\\} \\quad \\forall v \\in V$\n",
    "\n",
    "The ILP is solved using cvxpy as following."
   ]
  },
  {
   "cell_type": "code",
   "execution_count": 2,
   "metadata": {},
   "outputs": [
    {
     "name": "stdout",
     "output_type": "stream",
     "text": [
      "x values:  [0. 1. 1. 1. 0. 0.]\n",
      "optimal solution:  7.0\n"
     ]
    }
   ],
   "source": [
    "import cvxpy as cp\n",
    "import numpy as np\n",
    "\n",
    "# nodes\n",
    "x = cp.Variable(6, integer=True)\n",
    "\n",
    "# weights \n",
    "w = np.array([4,2,3,2,1,4]) \n",
    "\n",
    "# incidence matrix\n",
    "A = np.array([[1, 1, 0, 0, 0, 0],  # 4-2 (top)\n",
    "              [1, 0, 1, 0, 0, 0],  # 4-2 (centre)\n",
    "              [1, 0, 0, 1, 0, 0],  # 4-3\n",
    "              [0, 1, 0, 1, 0, 0],  # 2-2\n",
    "              [0, 0, 1, 1, 0, 0],  # 3-2\n",
    "              [0, 0, 1, 0, 1, 0],  # 3-1\n",
    "              [0, 0, 0, 1, 0, 1]]) # 2-4 (bottom)\n",
    "\n",
    "# defining problem\n",
    "objective = cp.Minimize(w.T@x)\n",
    "constraints = [A@x >= np.ones(7), x <= 1, x >= 0]\n",
    "prob = cp.Problem(objective, constraints)\n",
    "\n",
    "# print result\n",
    "result = prob.solve()\n",
    "print(\"x values: \", x.value)\n",
    "print(\"optimal solution: \", result)"
   ]
  },
  {
   "cell_type": "markdown",
   "metadata": {},
   "source": [
    "## Question 2.2\n",
    "LP relaxation of 2.1 is performed as following.\n",
    "\n",
    "We can observe that the optimal solution of the LP-relaxation is very close (~$10^{-8}$) to the ILP solution. However, in ILP solution, three distinct nodes are selected whereas in the LP-relaxation, fractions of all nodes are selected. Thus, the ILP solution is an invalid vertex cover. "
   ]
  },
  {
   "cell_type": "code",
   "execution_count": 3,
   "metadata": {},
   "outputs": [
    {
     "name": "stdout",
     "output_type": "stream",
     "text": [
      "x values:  [4.99582079e-01 5.00417921e-01 5.00417921e-01 1.00000000e+00\n",
      " 4.99582079e-01 2.65500505e-10]\n",
      "optimal solution:  6.999999998934636\n"
     ]
    }
   ],
   "source": [
    "import cvxpy as cp\n",
    "import numpy as np\n",
    "\n",
    "# nodes without integer constraint\n",
    "x1 = cp.Variable(6, nonneg=True)\n",
    "\n",
    "# defining problem\n",
    "objective1 = cp.Minimize(w.T@x1)\n",
    "constraints1 = [A@x1 >= np.ones(7), x1 <= 1, x1 >= 0]\n",
    "prob1 = cp.Problem(objective1, constraints1)\n",
    "\n",
    "# print result\n",
    "result1 = prob1.solve()\n",
    "print(\"x values: \", x1.value)\n",
    "print(\"optimal solution: \", result1)"
   ]
  },
  {
   "cell_type": "markdown",
   "metadata": {},
   "source": [
    "## Question 2.3\n",
    "We have rounded the values of every $x_i$ to the nearest integer, i.e. $x_i \\geq 0.5$ are rounded to 1 and $x_i < 0.5$ is rounded to 0. The rounded x-vector is then [0. 1. 1. 1. 0. 0.] and we observe that rounded LP-relaxation correspond to the selected nodes in the ILP solution. Using the rounded x-vector, the optimal value of the rounded solution is computed to 7, which is equal to the optimal value of the ILP solution.\n",
    "\n"
   ]
  },
  {
   "cell_type": "markdown",
   "metadata": {
    "id": "FJozdRm7tQIE"
   },
   "source": [
    "# Question 3.\n",
    "\n",
    "Consider a number of interpreters (Olof, Petra, Qamar,\n",
    "  Rachel, Soren and Tao), as well as a set of languages (Arab,\n",
    "  Bengali, Cantonese, Dutch, English, French and German). Each\n",
    "  interpreter speaks a number of different languages (abbreviated by\n",
    "  first letter), and has a certain per-diem integer cost:\n",
    "\n",
    "\\begin{array}{lll}\n",
    "Interpreter & Languages & Cost\\\\\n",
    "O & ABD & 3\\\\\n",
    "P & C & 1\\\\\n",
    "Q & CDG & 1\\\\\n",
    "R & B & 2\\\\\n",
    "S & G & 4\\\\\n",
    "T & EF & 1\\\\\n",
    "\\end{array}\n",
    "\n",
    "* (2 points) A *hypergraph* is a structure $H = (V,E)$ where $V$ is a set of vertices and $E$ is a collection of subsets of $V$. The special case when all subsets $e \\in E$ have size exactly $2$ corresponds to the familiar case of a graph. A vertex cover in such a hypergraph is a subset $U \\subseteq V$ such that $e \\cap U \\not = \\emptyset$ for each $e \\in E$ (note that this reduces to the usual vertex cover in graphs). Show that the problem of finding interpreters can be formulated as a vertex cover problem in a sutable hypergraph.\n",
    "* (4 points) Develop a ILP formulation to finding the vertex cover of minimum cost in a hypergraph. The hypergraph can be represented as a $|V| \\times |E|$ binary matrix $A$ where $A[i,j] = 1$ iff vertex $i$ is in edge $j$ and 0 otherwise. The costs for vertices are in an array $\\texttt{c}$ where the cost of picking vertex $i$ is $c[i]$. Use the ILP formulation for the VC problem to hire the cheapest set of interpreters such that all languages are covered. Input the data above manuallly and solve it using **CVXPY**'s integer solver.\n",
    "* (2 points) Pass to the LP relaxation and solve it using **CVXPY**.\n",
    "* (2 points) Explain why the two solutions above are same (different).\n"
   ]
  },
  {
   "cell_type": "markdown",
   "metadata": {},
   "source": [
    "## Question 3.1\n",
    "\n",
    "Let H = (V, E) represent a hypergraph of interpreters and languages. Here, the vertices V consist of every unique interpreter and the subsets E consist of the subsets of intreper that speaks each language. For instance, in the example above, the subset of interpreters $e \\in E$ speaking the language C is $\\{P, Q\\}$. Finding interpreters is thus formulated as a vertex cover as selecting a subset of interpreters, i.e. nodes $U \\in V$, such that every language is spoken by at least one interpreter, i.e. for every subset of languages $e \\in E$, $e \\cap U \\not = \\emptyset$.\n",
    "\n",
    "Note that in the example, every language is spoken by at most two interpreters. The hypergraph can hence be remodelled as a regular graph G = (V, E') where V still consist of the unique interpreters and edges in E' consist of every language. Thus, if language X is spoken by interpreter u and v, it is is represented by the edge e = (u,v) and if X is spoken by only interpreter w, it is represented by the edge e' = (w,w). Finding interpreters is in this case formulated as a vertex cover as selecting a subset of interpretes, i.e. nodes $U \\in V$, such that every language is is spoken by at least one interpreter, i.e. for every edge $e = (u,v) \\in E'$, $u \\in U$ or $v \\in U$."
   ]
  },
  {
   "cell_type": "markdown",
   "metadata": {},
   "source": [
    "## Question 3.2\n",
    "\n",
    "**Objective function:** <br/>\n",
    "$\\min \\sum_{e \\in E} x_e * w_e$\n",
    "\n",
    "**Constraints:** <br />\n",
    "$\\sum_{e : v \\in e} x_e \\geq 1  \\quad \\forall v \\in V$ <br />\n",
    "$x_e \\in \\{0, 1\\} \\quad \\forall e \\in E$\n",
    "\n",
    "\n",
    "We calculate our ILP solution below. The cheapest choice of interpretors is then O,Q and T. "
   ]
  },
  {
   "cell_type": "code",
   "execution_count": 4,
   "metadata": {},
   "outputs": [
    {
     "name": "stdout",
     "output_type": "stream",
     "text": [
      "x values:  [1. 0. 1. 0. 0. 1.]\n",
      "optimal solution:  5.0\n"
     ]
    }
   ],
   "source": [
    "# Subsets/Intepretors\n",
    "x = cp.Variable(6, boolean=True)\n",
    "\n",
    "# costs \n",
    "w = np.array([3,1,1,2,4,1]) \n",
    "\n",
    "#Incidence matrix\n",
    "A = np.array([\n",
    "    #A,B,C,D,E,F,G\n",
    "    [1,1,0,1,0,0,0], #O\n",
    "    [0,0,1,0,0,0,0], #P\n",
    "    [0,0,1,1,0,0,1], #Q\n",
    "    [0,1,0,0,0,0,0], #R\n",
    "    [0,0,0,0,0,0,1], #S\n",
    "    [0,0,0,0,1,1,0]  #T\n",
    "])\n",
    "\n",
    "# defining problem\n",
    "objective = cp.Minimize(w.T@x)\n",
    "constraints = [A.T@x >= np.ones(7), x <= 1, x >= 0]\n",
    "prob = cp.Problem(objective, constraints)\n",
    "\n",
    "# print result\n",
    "result = prob.solve()\n",
    "print(\"x values: \", x.value)\n",
    "print(\"optimal solution: \", result)\n"
   ]
  },
  {
   "cell_type": "markdown",
   "metadata": {},
   "source": [
    "## Question 3.3"
   ]
  },
  {
   "cell_type": "code",
   "execution_count": 5,
   "metadata": {},
   "outputs": [
    {
     "name": "stdout",
     "output_type": "stream",
     "text": [
      "x values:  [1.00000000e+00 1.07010319e-09 1.00000000e+00 3.00389586e-10\n",
      " 0.00000000e+00 1.00000000e+00]\n",
      "optimal solution:  5.000000000472339\n"
     ]
    }
   ],
   "source": [
    "# subsets without integer constraint\n",
    "x1 = cp.Variable(6, nonneg=True)\n",
    "\n",
    "# defining problem\n",
    "objective1 = cp.Minimize(w.T@x1)\n",
    "constraints1 = [A.T@x1 >= np.ones(7), x1 <= 1, x1 >= 0]\n",
    "prob1 = cp.Problem(objective1, constraints1)\n",
    "\n",
    "# print result\n",
    "result1 = prob1.solve()\n",
    "print(\"x values: \", x1.value)\n",
    "print(\"optimal solution: \", result1)"
   ]
  },
  {
   "cell_type": "markdown",
   "metadata": {},
   "source": [
    "## Question 3.4\n",
    "\n",
    "We can see that our matrix $A$ is totally unimodular since:\n",
    "* All entries are eiter 0 or 1\n",
    "* any column has at most 2 non-zeros (ones)\n",
    "* rows can be partitioned into two subsets Rows1= {O,P,S}, Rows2={Q,R,T} such that no non-zeros with same sign are in the same subset.\n",
    "\n",
    "From Hoffman-Kruskal Theorem, we can then conclude that the entries in x will be integers. In practice, this means that the optimal solution from the LP relaxation will be identical to the optimal ILP solution.\n",
    "\n",
    "Observe that the problem is **not** totally unimodular in general. In this specific instance of the problem, each language is represented in at most 2 interpreters, which corresponds to the second criterion of totally unimodularity."
   ]
  },
  {
   "cell_type": "markdown",
   "metadata": {
    "id": "wQn66ghatQIG"
   },
   "source": [
    "# Question 4. \n",
    "Consider the ILP and its LP relaxation corresponding to the VC problem for the graph $G$ given in the data file. This is a ***random graph*** $G(n,p)$ with $n=100$ vertices generated as follows: for each pair of vertices **independently**, we add an edge with probability $p=0.1$ (so the graph has about 1000 edges).\n",
    "\n",
    "* **a**. (2 points) Find the optimal solution using **CVXPY**'s integer solver.\n",
    "* **b**. (2 points) Solve the LP relaxation using **CVXPY** and apply the rounding rule discussed in class to obtain a vertex cover. Compare it to the optimal solution in part (a).\n",
    "* **c**. (6 points) Consider the following rounding rule: we build up the vertex cover incrementally starting with $S:= \\emptyset$. Now consider the edges in $G$ in any order. If an edge $(u,v)$ is already covered by a vertex in $S$, do nothing. Otherwise add to $S$ the vertex $u$ if $x^*(u) \\geq x^*(v)$, or $v$ otherwise (where ${\\bf x}^*$ is the LP optimum solution computed in part (b).  Comment why this also results in a vertex cover and has cost no more than that corresponding to the rounding rule in part (b). Compare the cost of the solution produced by this rule to the optimal solution."
   ]
  },
  {
   "cell_type": "markdown",
   "metadata": {},
   "source": [
    "## Question 4a"
   ]
  },
  {
   "cell_type": "code",
   "execution_count": 6,
   "metadata": {},
   "outputs": [
    {
     "name": "stdout",
     "output_type": "stream",
     "text": [
      "time elapsed: 45.11\n",
      "x values:  [1. 1. 1. 0. 1. 1. 1. 1. 0. 0. 0. 0. 1. 1. 0. 0. 1. 1. 0. 1. 1. 0. 1. 0.\n",
      " 1. 1. 0. 1. 1. 1. 1. 1. 0. 1. 1. 1. 1. 1. 1. 1. 1. 1. 1. 0. 1. 1. 1. 1.\n",
      " 1. 1. 0. 0. 1. 1. 1. 1. 1. 0. 1. 1. 0. 1. 1. 1. 0. 1. 0. 1. 1. 0. 1. 0.\n",
      " 1. 1. 0. 1. 0. 1. 1. 1. 1. 1. 1. 0. 1. 1. 0. 1. 0. 1. 1. 0. 1. 1. 0. 1.\n",
      " 1. 1. 0. 0.]\n",
      "optimal solution:  70.0\n"
     ]
    }
   ],
   "source": [
    "import time\n",
    "\n",
    "# read file to numpy array \n",
    "G = np.loadtxt('graph.txt')\n",
    "\n",
    "# init empty incidence matrix\n",
    "E = []\n",
    "\n",
    "# add all adges from G to incidence matrix\n",
    "for (i, j), e in np.ndenumerate(G):\n",
    "    \n",
    "    # skip indices below diagonal (symmetric graph) and indices without edges\n",
    "    if (i < j or e < 1): continue\n",
    "    \n",
    "    # create one new row for every edge and set edge vertices to 1\n",
    "    row = [1 if (x == i or x == j) \n",
    "           else 0 \n",
    "           for x in range(G.shape[0])]\n",
    "    \n",
    "    # add incidence row to incidence matrix\n",
    "    E.extend([row])\n",
    "\n",
    "# convert E to numpy array\n",
    "A = np.array(E)\n",
    "\n",
    "rows, cols = A.shape\n",
    "\n",
    "# Variables for each node\n",
    "x = cp.Variable(cols, integer=True)\n",
    "\n",
    "#4.a ILP\n",
    "objective = cp.Minimize(x.T@np.ones(cols))\n",
    "\n",
    "constraints = [A@x >= np.ones(rows), x <= 1, x >= 0]\n",
    "prob = cp.Problem(objective, constraints)\n",
    "\n",
    "# print result\n",
    "\n",
    "start = time.time()\n",
    "\n",
    "result = prob.solve()\n",
    "print('time elapsed: {}'.format(round(time.time() - start, 2)))\n",
    "print(\"x values: \", x.value)\n",
    "print(\"optimal solution: \", result)"
   ]
  },
  {
   "cell_type": "markdown",
   "metadata": {},
   "source": [
    "## Question 4b\n",
    "Comment: in the LP-relaxation below, every node is included in the vertex cover. The LP-relaxation solution is an upper bound of the ILP-opt solution."
   ]
  },
  {
   "cell_type": "code",
   "execution_count": 7,
   "metadata": {},
   "outputs": [
    {
     "name": "stdout",
     "output_type": "stream",
     "text": [
      "time elapsed: 0.01\n",
      "x values:  [0.5 0.5 0.5 0.5 0.5 0.5 0.5 0.5 0.5 0.5 0.5 0.5 0.5 0.5 0.5 0.5 0.5 0.5\n",
      " 0.5 0.5 0.5 0.5 0.5 0.5 0.5 0.5 0.5 0.5 0.5 0.5 0.5 0.5 0.5 0.5 0.5 0.5\n",
      " 0.5 0.5 0.5 0.5 0.5 0.5 0.5 0.5 0.5 0.5 0.5 0.5 0.5 0.5 0.5 0.5 0.5 0.5\n",
      " 0.5 0.5 0.5 0.5 0.5 0.5 0.5 0.5 0.5 0.5 0.5 0.5 0.5 0.5 0.5 0.5 0.5 0.5\n",
      " 0.5 0.5 0.5 0.5 0.5 0.5 0.5 0.5 0.5 0.5 0.5 0.5 0.5 0.5 0.5 0.5 0.5 0.5\n",
      " 0.5 0.5 0.5 0.5 0.5 0.5 0.5 0.5 0.5 0.5]\n",
      "optimal solution:  50.00000000023462\n",
      "\n",
      " x rounded: \n",
      " [1, 1, 1, 1, 1, 1, 1, 1, 1, 1, 1, 1, 1, 1, 1, 1, 1, 1, 1, 1, 1, 1, 1, 1, 1, 1, 1, 1, 1, 1, 1, 1, 1, 1, 1, 1, 1, 1, 1, 1, 1, 1, 1, 1, 1, 1, 1, 1, 1, 1, 1, 1, 1, 1, 1, 1, 1, 1, 1, 1, 1, 1, 1, 1, 1, 1, 1, 1, 1, 1, 1, 1, 1, 1, 1, 1, 1, 1, 1, 1, 1, 1, 1, 1, 1, 1, 1, 1, 1, 1, 1, 1, 1, 1, 1, 1, 1, 1, 1, 1]\n",
      "\n",
      " Nodes in VC:  100\n"
     ]
    }
   ],
   "source": [
    "import math\n",
    "# Variables for each node\n",
    "xf = cp.Variable(cols, nonneg=True)\n",
    "\n",
    "#4.a ILP\n",
    "objective = cp.Minimize(xf.T@np.ones(cols))\n",
    "\n",
    "constraints = [A@xf >= np.ones(rows), xf <= 1, xf >= 0]\n",
    "prob = cp.Problem(objective, constraints)\n",
    "\n",
    "# print result\n",
    "\n",
    "start = time.time()\n",
    "\n",
    "result = prob.solve()\n",
    "print('time elapsed: {}'.format(round(time.time() - start, 2)))\n",
    "print(\"x values: \", xf.value)\n",
    "print(\"optimal solution: \", result)\n",
    "\n",
    "#Rounding x\n",
    "rx = [1 if round(i,1) >=0.5 else 0 for i in xf.value]\n",
    "print(\"\\n x rounded: \\n\", rx)\n",
    "print(\"\\n Nodes in VC: \", sum(rx))\n"
   ]
  },
  {
   "cell_type": "markdown",
   "metadata": {},
   "source": [
    "## Question 4c\n",
    "This approximation algorithm will produce a vertex cover, since we iterate through every edge and assign one of its indicent nodes to the vertex cover if none of them aren't already covered.\n",
    "\n",
    "**Proof** why this solution will cost no more than the rounded LP-relaxation in 4b:\n",
    "\n",
    "We define the vertex cover in this solution as C, and the rounded solution from 4b as B.\n",
    "Assume $|C| > |B|$\n",
    "\n",
    "This means, at least one node $c \\in C$ which is not in $B$. The cost of this node would be less than 0.5, since it was not in B. For any indicent edge (b,c), b will cost (before rounding) at least 0.5, and therefore $b \\in B$. This is a contradiction, since we compare the indicent nodes and pick the greatest value. Since b have a greater cost than c, the greedy part of the algorithm would choose b to be in C. Thus c cannot be in C."
   ]
  },
  {
   "cell_type": "code",
   "execution_count": 10,
   "metadata": {},
   "outputs": [
    {
     "name": "stdout",
     "output_type": "stream",
     "text": [
      "x rounded: \n",
      " [1. 1. 1. 0. 1. 1. 1. 1. 1. 1. 0. 0. 1. 0. 0. 1. 1. 0. 0. 1. 1. 0. 1. 1.\n",
      " 1. 0. 1. 1. 1. 1. 1. 0. 0. 1. 1. 1. 0. 1. 1. 1. 1. 1. 1. 1. 1. 1. 0. 1.\n",
      " 1. 1. 1. 1. 0. 1. 1. 1. 1. 0. 0. 1. 1. 1. 1. 1. 0. 1. 0. 1. 1. 0. 1. 0.\n",
      " 0. 1. 1. 1. 1. 0. 1. 1. 1. 1. 1. 0. 0. 1. 1. 0. 1. 0. 1. 1. 1. 0. 1. 1.\n",
      " 1. 1. 1. 1.]\n",
      "\n",
      "Nodes in VC:  73.0\n",
      "Difference of vertex covers size:  3.0\n",
      "Difference in node selection (xor between vertex covers):  31\n"
     ]
    }
   ],
   "source": [
    "xv = xf.value\n",
    "\n",
    "rrx = np.zeros(len(xv))\n",
    "# iterate all edges in G\n",
    "for (i, j), e in np.ndenumerate(G):\n",
    "    \n",
    "    # skip indices below diagonal (symmetric graph) and indices without edges\n",
    "    if (i < j or e < 1): continue\n",
    "        \n",
    "    # skip edges already covered in VC\n",
    "    if rrx[i] > 0 or rrx[j] > 0: continue\n",
    "    \n",
    "    # add node of edge with max opt value\n",
    "    rrx[i if xv[i] > xv[j] else j] = 1\n",
    "    \n",
    "print(\"x rounded: \\n\", rrx)\n",
    "print(\"\\nNodes in VC: \", sum(rrx))\n",
    "\n",
    "xorX = [int(rrx[i])^int(x.value[i]) for i in range(len(xv))]\n",
    "\n",
    "print(\"Difference of vertex covers size: \", sum(rrx)-sum(x.value))\n",
    "print(\"Difference in node selection (xor between vertex covers): \", sum(xorX))"
   ]
  },
  {
   "cell_type": "code",
   "execution_count": null,
   "metadata": {},
   "outputs": [],
   "source": []
  }
 ],
 "metadata": {
  "colab": {
   "collapsed_sections": [],
   "name": "hw2020-2.ipynb",
   "provenance": []
  },
  "kernelspec": {
   "display_name": "Python 3",
   "language": "python",
   "name": "python3"
  },
  "language_info": {
   "codemirror_mode": {
    "name": "ipython",
    "version": 3
   },
   "file_extension": ".py",
   "mimetype": "text/x-python",
   "name": "python",
   "nbconvert_exporter": "python",
   "pygments_lexer": "ipython3",
   "version": "3.7.4"
  }
 },
 "nbformat": 4,
 "nbformat_minor": 1
}
