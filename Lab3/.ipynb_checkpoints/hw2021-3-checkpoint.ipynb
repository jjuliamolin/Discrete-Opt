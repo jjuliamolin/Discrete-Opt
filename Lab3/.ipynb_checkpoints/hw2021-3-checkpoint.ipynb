{
 "cells": [
  {
   "cell_type": "markdown",
   "metadata": {},
   "source": [
    "\n",
    "$\\qquad$ $\\qquad$$\\qquad$  **TDA231/DIT370 Discrete Optimization: Home Assignment 3 -- LP Duality and the Primal-Dual Algorithm** <br />\n",
    "$\\qquad$ $\\qquad$$\\qquad$                   **Grader: Jimmy Aronsson** <br />\n",
    "$\\qquad$ $\\qquad$$\\qquad$                     **Due Date: 01/03/2021** <br />\n",
    "$\\qquad$ $\\qquad$$\\qquad$                   **Submitted by: Name, Personal No., Email** <br />\n",
    "\n",
    "\n",
    "---\n",
    "\n",
    "\n",
    "General guidelines:\n",
    "*   All solutions to theoretical and pratical problems must be submitted in this ipynb notebook and equations, wherever required, should be formatted using LaTeX math-mode.\n",
    "*   All discussion regarding practical problems, along with solutions and plots should be specified in this notebook. All plots/results should be visible such that the notebook does not have to be run. But the code in the notebook should reproduce the plots/results if we choose to do so.\n",
    "*   Your name, personal number and email address should be specified above.\n",
    "*   All tables and other additional information should be included in this notebook.\n",
    "*   Before submitting, make sure that your code can run on another computer. That all plots can show on another computer including all your writing. It is good to check if your code can run here: https://colab.research.google.com.\n"
   ]
  },
  {
   "cell_type": "markdown",
   "metadata": {},
   "source": [
    "# Problem 1.\n",
    "\n",
    "Consider the following LP problem:\n",
    "\n",
    "\\begin{alignat*}{2}\n",
    "\\max \\ &4x_1-2x_2+5x_3+6x_4+7x_5\\\\\n",
    "\\\\\n",
    "\\textrm{s.t} \\quad\n",
    "&2x_1 + 2x_2 - 4x_3 + 4x_4 + 8x_5 &&\\leq 6\\\\\n",
    "&2x_1 + \\ \\ {}x_2 - 2x_3 - \\ \\ x_4 - 3x_5 &&\\geq -1\\\\\n",
    "&5x_1 - 2x_2 + 4x_3 + 4x_4 + 2x_5 &&= 5\\\\\n",
    "&2x_1 - 2x_2 + 5x_3 + 3x_4 + \\ \\ x_5 &&\\leq 4\\\\\n",
    "&\\hspace{5.3cm} \\vec x &&\\geq \\vec 0\n",
    "\\end{alignat*}\n",
    "\n"
   ]
  },
  {
   "cell_type": "markdown",
   "metadata": {},
   "source": [
    "---\n",
    "\n",
    "* **(4 points) Write the LP dual of this problem.**\n",
    "\n",
    "\\begin{alignat*}{2}\n",
    "\\min \\ 6y_1 - \\ \\ y_2 + 5y_3 +4y_4 &\\\\\n",
    "\\\\\n",
    "\\textrm{s.t} \\quad\n",
    "2y_1 + 2y_2 + 5y_3 + 2y_4 &\\geq 4 \\\\\n",
    "2y_1 + \\ \\ y_2 - 2y_3 - 2y_4 &\\geq -2 \\\\\n",
    "-4y_1 - 2y_2 + 4y_3 + 5y_4 &\\geq 5 \\\\\n",
    "4y_1 - \\ \\ y_2 + 4y_3 + 3y_4 &\\geq 6 \\\\\n",
    "8y_1 - 3y_2 + 2y_3 + \\ \\ y_4 &\\geq 7 \\\\\n",
    "y_1, y_4 &\\geq 0 \\\\\n",
    "y_2 &\\leq 0 \\\\\n",
    "y_3 &\\in \\mathbb{R}\n",
    "\\end{alignat*}\n",
    "\n",
    "---\n",
    "\n",
    "* **(3 points) Use CVXPY to compute the primal and dual optimum solutions and compare their values.**\n",
    "\n",
    "The primal and dual optimal solutions are computed in the script below, where their values and difference are printed.\n",
    "\n",
    "--- \n",
    "\n",
    "* **(3 points) Check the complementary slackness conditions.**\n"
   ]
  },
  {
   "cell_type": "code",
   "execution_count": 141,
   "metadata": {},
   "outputs": [
    {
     "name": "stdout",
     "output_type": "stream",
     "text": [
      "Primal optimal solution:  9.220338982799781\n",
      "Primal variables:  [6.27118644e-01 2.81355932e+00 1.54237288e+00 1.67556947e-11\n",
      " 6.61016949e-01]\n",
      "\n",
      "Dual optimal solution:  9.220338982774535\n",
      "Dual variables:  [0.52542373 0.37288136 0.91768296 0.57869991 1.        ]\n",
      "\n",
      "Difference:  2.524558340155636e-11\n",
      "\n",
      "Slackness on x*:  [0.0, 0.0, 0.0, 0, 0.0]\n",
      "Slackness on y*:  [0.0, 0.0, 0.0, 0.0, 0.0]\n"
     ]
    }
   ],
   "source": [
    "import cvxpy as cp\n",
    "import numpy as np\n",
    "\n",
    "A = np.array([[2, 2, -4, 4, 8],\n",
    "              [-2, -1, 2, 1, 3],\n",
    "              [5, -2, 4, 4, 2],\n",
    "              [-5, 2, -4, -4, -2],\n",
    "              [2, -2, 5, 3, 1]])\n",
    "\n",
    "b = np.array([6, 1, 5, -5, 4])\n",
    "\n",
    "c = np.array([4, -2, 5, 6, 7])\n",
    "\n",
    "x = cp.Variable(c.shape[0], nonneg=True)\n",
    "\n",
    "y = cp.Variable(b.shape[0], nonneg=True)\n",
    "\n",
    "primal = cp.Problem(cp.Maximize(c.T@x), [A@x <= b, x >= 0]).solve()\n",
    "dual = cp.Problem(cp.Minimize(b.T@y), [A.T@y >= c, y >= 0]).solve()\n",
    "\n",
    "x = x.value\n",
    "y = y.value\n",
    "\n",
    "print(\"Primal optimal solution: \", primal)\n",
    "print(\"Primal variables: \", x)\n",
    "print(\"\\nDual optimal solution: \", dual)\n",
    "print(\"Dual variables: \", y)\n",
    "print(\"\\nDifference: \", abs(primal-dual))\n",
    "\n",
    "xslack = [0 if round(v, 8) == 0 else abs(round(A.T[i]@y - c[i], 8)) \n",
    "          for i, v in np.ndenumerate(x)]\n",
    "\n",
    "yslack = [0 if round(v, 8) == 0 else abs(round(A[i]@x - b[i], 8))\n",
    "          for i, v in np.ndenumerate(y)]\n",
    "\n",
    "print(\"\\nSlackness on x*: \", xslack)\n",
    "print(\"Slackness on y*: \", yslack)"
   ]
  },
  {
   "cell_type": "markdown",
   "metadata": {},
   "source": [
    "# Problem 2.\n",
    "\n",
    "Consdier the LP problem:\n",
    "\\begin{alignat*}{2}\n",
    "\\max \\ &6x_1 - 5x_3\\\\\n",
    "\\\\\n",
    "\\textrm{s.t} \\quad\n",
    "&6x_1 - 3x_2 + x_3 &&= 2\\\\\n",
    "&3x_1 + 4x_2 + x_3 &&\\leq 5\\\\\n",
    "&\\ \\ x_1 - 7x_2 &&\\leq 5\\\\\n",
    "&\\hspace{2.45cm} x_1 &&\\geq 0\\\\\n",
    "&\\hspace{2.45cm} x_2 &&\\leq 0\\\\\n",
    "&\\hspace{2.45cm} x_3 &&\\text{ unrestricted}\n",
    "\\end{alignat*}"
   ]
  },
  {
   "cell_type": "markdown",
   "metadata": {},
   "source": [
    "---\n",
    "\n",
    "* **(3 points) Write the LP dual of this problem.**\n",
    "\n",
    "\\begin{alignat*}{2}\n",
    "\\min \\ 2y_1 + 5y_2 + 5y_3 &\\\\\n",
    "\\\\\n",
    "\\textrm{s.t} \\quad\n",
    "6y_1 + 3y_2 + \\ \\ y_3 &\\geq 6\\\\\n",
    "-3y_1 + 4y_2 - 7y_3 &\\leq 0\\\\\n",
    "\\ \\ y_1  + \\ \\ y_2 \\ \\ \\ \\ \\ \\ \\ \\ \\ \\ &= -5 \\\\\n",
    "y_1 &\\in \\mathbb{R} \\\\\n",
    "y_2, y_3 &\\geq 0 \n",
    "\\end{alignat*}\n",
    "\n",
    "---\n",
    "\n",
    "* **(4 points) Consider the feasible solution $\\vec x = (0,0,2)$ to the primal. Check if this solution is optimal by using the complementary slackness conditions to write down the corresponding dual solution.**\n",
    "\n",
    "\n",
    "\n",
    "---\n",
    "\n",
    "* **(3 points) Use complementary slackness to check if the primal feasible solution $\\vec x = (1,0,-4)$ is optimal.**"
   ]
  },
  {
   "cell_type": "markdown",
   "metadata": {},
   "source": [
    "b)\n",
    "1. x3 != 0, D3 sat with =\n",
    "2. assume y2 != 0, P2 must be sat with =\n",
    "3. P2: 2 != 5, not sat with = -> y2 = 0\n",
    "4. y2 = 0 -> y1 = -5 -> P1 must be sat with = (possible)\n",
    "5. (option a) set values of y1, y2 into both D2, D2 -> y3 < 17/5 and y3 > 36 (not possible)\n",
    "6. (option b) set values of y1, y2 into either D2, D3 -> P1, P2 not sat with = resp.\n",
    "\n",
    "\n",
    "c)\n",
    "1. x1,x3 != 0 -> D1,D3 satisfied with =\n",
    "2. D3: y1+y2 = -5, assume y2 != 0\n",
    "3. y2 != 0 -> satisfied with =, not true -> y2=0\n",
    "4. y2 = 0 -> y1 = -5 -> P1 sat with = (true)\n",
    "5. D1: 6*-5 + 3*0 + y3 = 6 -> y3 = 36\n",
    "6. y3 = 36 -> P3 sat with = (false)\n",
    "7. Thus, x* not optimal"
   ]
  },
  {
   "cell_type": "code",
   "execution_count": 150,
   "metadata": {},
   "outputs": [
    {
     "name": "stdout",
     "output_type": "stream",
     "text": [
      "Primal optimal solution:  4.181818179418814\n",
      "Primal variables:  [6.96969697e-01 7.27272727e-01 7.29346162e-11]\n",
      "\n",
      "Dual optimal solution:  4.181818179689049\n",
      "Dual variables:  [2.54849372 1.821221   0.54545455 0.        ]\n"
     ]
    }
   ],
   "source": [
    "import cvxpy as cp\n",
    "import numpy as np\n",
    "\n",
    "A = np.array([[6, -3, 1,],\n",
    "              [-6, 3, -1,],\n",
    "              [3, 4, 1,],\n",
    "              [1, -7, 0]])\n",
    "\n",
    "b = np.array([2, -2, 5, 5])\n",
    "\n",
    "c = np.array([6, 0, -5])\n",
    "\n",
    "x = cp.Variable(c.shape[0], nonneg=True)\n",
    "\n",
    "y = cp.Variable(b.shape[0], nonneg=True)\n",
    "\n",
    "primal = cp.Problem(cp.Maximize(c.T@x), [A@x <= b, x[1] >= 0, x[2] <= 0]).solve()\n",
    "dual = cp.Problem(cp.Minimize(b.T@y), [A.T@y >= c, y >= 0]).solve()\n",
    "\n",
    "x = x.value\n",
    "y = y.value\n",
    "\n",
    "print(\"Primal optimal solution: \", primal)\n",
    "print(\"Primal variables: \", x)\n",
    "print(\"\\nDual optimal solution: \", dual)\n",
    "print(\"Dual variables: \", y)"
   ]
  },
  {
   "cell_type": "markdown",
   "metadata": {},
   "source": [
    "# Problem 3.\n",
    "\n",
    "Consider the primal-dual algorithm for vertex cover discussed in class.\n",
    "\n",
    "\n",
    "<img src=\"https://tinyurl.com/tsnuz2c\" alt=\"Drawing\" style=\"width: 180px;\"/>\n",
    "\n",
    "If the image does not load, try the direct link: https://tinyurl.com/tsnuz2c"
   ]
  },
  {
   "cell_type": "markdown",
   "metadata": {},
   "source": [
    "---\n",
    "\n",
    "* **(4 points) Run the algorithm by hand on the graph in the figure below (from your previous homework). Show the values of the primal and dual variables at each iteration.**\n",
    "\n",
    "---\n",
    "\n",
    "* **(6 points) Implement the primal-dual algorithm as a python script to compute (approximate) vertex covers and run it for the random graph $G(200,0.1)$ from the previous homework.**"
   ]
  },
  {
   "cell_type": "code",
   "execution_count": null,
   "metadata": {},
   "outputs": [],
   "source": []
  }
 ],
 "metadata": {
  "kernelspec": {
   "display_name": "Python 3",
   "language": "python",
   "name": "python3"
  },
  "language_info": {
   "codemirror_mode": {
    "name": "ipython",
    "version": 3
   },
   "file_extension": ".py",
   "mimetype": "text/x-python",
   "name": "python",
   "nbconvert_exporter": "python",
   "pygments_lexer": "ipython3",
   "version": "3.7.4"
  }
 },
 "nbformat": 4,
 "nbformat_minor": 4
}
